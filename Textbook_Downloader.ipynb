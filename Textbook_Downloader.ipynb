{
 "cells": [
  {
   "cell_type": "code",
   "execution_count": null,
   "metadata": {},
   "outputs": [],
   "source": [
    "website = 'website URL '\n",
    "accont = 'your accont'\n",
    "password = 'your password'\n",
    "destDir = 'your destnition to download files'\n",
    "\n",
    "with open('.credential/website') as wb:\n",
    "    website = wb.readline()\n",
    "\n",
    "with open('.credential/accont') as ac:\n",
    "    accont = ac.readline()\n",
    "\n",
    "with open('.credential/password') as pw:\n",
    "    password = pw.readline()\n",
    "\n",
    "with open('.credential/destDir') as dd:\n",
    "    destDir = dd.readline()"
   ]
  },
  {
   "cell_type": "code",
   "execution_count": null,
   "metadata": {},
   "outputs": [],
   "source": [
    "# 啟動瀏覽器工具的選項\n",
    "my_options = webdriver.ChromeOptions()\n",
    "# my_options.add_argument(\"--headless\")                #不開啟實體瀏覽器背景執行\n",
    "my_options.add_argument(\"--start-maximized\")         #最大化視窗\n",
    "my_options.add_argument(\"--incognito\")               #開啟無痕模式\n",
    "my_options.add_argument(\"--disable-popup-blocking\") #禁用彈出攔截\n",
    "my_options.add_argument(\"--disable-notifications\")  #取消通知\n",
    "my_options.add_argument(\"--lang=zh-TW\")  #設定為正體中文"
   ]
  }
 ],
 "metadata": {
  "language_info": {
   "name": "python"
  }
 },
 "nbformat": 4,
 "nbformat_minor": 2
}
