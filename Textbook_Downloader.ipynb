{
 "cells": [
  {
   "cell_type": "code",
   "execution_count": 4,
   "metadata": {},
   "outputs": [],
   "source": [
    "# import\n",
    "\n",
    "# 操作 browser 的 API\n",
    "from selenium import webdriver\n",
    "\n",
    "# 處理逾時例外的工具\n",
    "from selenium.common.exceptions import TimeoutException\n",
    "\n",
    "# 面對動態網頁，等待某個元素出現的工具，通常與 exptected_conditions 搭配\n",
    "from selenium.webdriver.support.ui import WebDriverWait\n",
    "\n",
    "# 搭配 WebDriverWait 使用，對元素狀態的一種期待條件，若條件發生，則等待結束，往下一行執行\n",
    "from selenium.webdriver.support import expected_conditions as EC\n",
    "\n",
    "# 期待元素出現要透過什麼方式指定，通常與 EC、WebDriverWait 一起使用\n",
    "from selenium.webdriver.common.by import By\n",
    "\n",
    "# 強制等待 (執行期間休息一下)\n",
    "from time import sleep"
   ]
  },
  {
   "cell_type": "code",
   "execution_count": 16,
   "metadata": {},
   "outputs": [],
   "source": [
    "website = 'website URL '\n",
    "accont = 'your accont'\n",
    "password = 'your password'\n",
    "destDir = 'your destnition to download files'\n",
    "\n",
    "with open('.credential/website') as wb:\n",
    "    website = wb.readline()\n",
    "\n",
    "with open('.credential/accont') as ac:\n",
    "    accont = ac.readline()\n",
    "\n",
    "with open('.credential/password') as pw:\n",
    "    password = pw.readline()\n",
    "\n",
    "with open('.credential/destDir') as dd:\n",
    "    destDir = dd.readline()"
   ]
  },
  {
   "cell_type": "code",
   "execution_count": 20,
   "metadata": {},
   "outputs": [],
   "source": [
    "# 啟動瀏覽器工具的選項\n",
    "my_options = webdriver.EdgeOptions()\n",
    "my_options.add_argument(\"--start-maximized\")         #最大化視窗\n",
    "my_options.add_argument(\"--incognito\")               #開啟無痕模式\n",
    "my_options.add_argument(\"--disable-popup-blocking\") #禁用彈出攔截\n",
    "my_options.add_argument(\"--disable-notifications\")  #取消通知\n",
    "my_options.add_argument(\"--lang=zh-TW\")  #設定為正體中文\n",
    "\n",
    "driver = webdriver.Edge(options=my_options)"
   ]
  },
  {
   "cell_type": "code",
   "execution_count": 26,
   "metadata": {},
   "outputs": [],
   "source": [
    "# functions for driver\n",
    "\n",
    "# visit a website\n",
    "def visit(URL):\n",
    "    driver.get(URL)\n",
    "    print('Going to', website)\n",
    "\n",
    "# wait till some element shows up\n",
    "def wait_Element(CSS_target):\n",
    "    try:\n",
    "        WebDriverWait(driver, 10).until(\n",
    "            EC.presence_of_element_located(\n",
    "                (By.CSS_SELECTOR, CSS_target)\n",
    "            )\n",
    "        )\n",
    "\n",
    "    except TimeoutException:\n",
    "        print('ERROR: Time Out!')\n",
    "\n"
   ]
  },
  {
   "cell_type": "code",
   "execution_count": 27,
   "metadata": {},
   "outputs": [
    {
     "name": "stdout",
     "output_type": "stream",
     "text": [
      "Going to https://ncueeclass.ncu.edu.tw/dashboard/historyCourse\n",
      "fffuck\n"
     ]
    }
   ],
   "source": [
    "# main\n",
    "\n",
    "if __name__ == '__main__':\n",
    "    visit(website)\n",
    "    wait_Element('button.btn.btn-primary.btn-lg.btn-block') #登入按鈕"
   ]
  }
 ],
 "metadata": {
  "kernelspec": {
   "display_name": ".venv",
   "language": "python",
   "name": "python3"
  },
  "language_info": {
   "codemirror_mode": {
    "name": "ipython",
    "version": 3
   },
   "file_extension": ".py",
   "mimetype": "text/x-python",
   "name": "python",
   "nbconvert_exporter": "python",
   "pygments_lexer": "ipython3",
   "version": "3.9.12"
  }
 },
 "nbformat": 4,
 "nbformat_minor": 2
}
